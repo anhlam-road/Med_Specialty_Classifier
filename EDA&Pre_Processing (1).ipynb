{
 "cells": [
  {
   "cell_type": "markdown",
   "metadata": {
    "id": "b9cdqJlzI5VL",
    "jp-MarkdownHeadingCollapsed": true
   },
   "source": [
    "# **IMPORT LIBRARIES**"
   ]
  },
  {
   "cell_type": "code",
   "execution_count": 1,
   "metadata": {
    "colab": {
     "base_uri": "https://localhost:8080/"
    },
    "collapsed": true,
    "id": "pYA_fCVVG6Dz",
    "jupyter": {
     "outputs_hidden": true
    },
    "outputId": "e2e456ac-939e-48eb-9702-747d7c931850"
   },
   "outputs": [
    {
     "name": "stdout",
     "output_type": "stream",
     "text": [
      "Requirement already satisfied: pyvi in f:\\installed\\anaconda3\\lib\\site-packages (0.1.1)\n",
      "Requirement already satisfied: scikit-learn in f:\\installed\\anaconda3\\lib\\site-packages (from pyvi) (1.2.2)\n",
      "Requirement already satisfied: sklearn-crfsuite in f:\\installed\\anaconda3\\lib\\site-packages (from pyvi) (0.5.0)\n",
      "Requirement already satisfied: numpy>=1.17.3 in f:\\installed\\anaconda3\\lib\\site-packages (from scikit-learn->pyvi) (1.26.4)\n",
      "Requirement already satisfied: scipy>=1.3.2 in f:\\installed\\anaconda3\\lib\\site-packages (from scikit-learn->pyvi) (1.11.4)\n",
      "Requirement already satisfied: joblib>=1.1.1 in f:\\installed\\anaconda3\\lib\\site-packages (from scikit-learn->pyvi) (1.2.0)\n",
      "Requirement already satisfied: threadpoolctl>=2.0.0 in f:\\installed\\anaconda3\\lib\\site-packages (from scikit-learn->pyvi) (2.2.0)\n",
      "Requirement already satisfied: python-crfsuite>=0.9.7 in f:\\installed\\anaconda3\\lib\\site-packages (from sklearn-crfsuite->pyvi) (0.9.9)\n",
      "Requirement already satisfied: tabulate>=0.4.2 in f:\\installed\\anaconda3\\lib\\site-packages (from sklearn-crfsuite->pyvi) (0.9.0)\n",
      "Requirement already satisfied: tqdm>=2.0 in f:\\installed\\anaconda3\\lib\\site-packages (from sklearn-crfsuite->pyvi) (4.65.0)\n",
      "Requirement already satisfied: colorama in f:\\installed\\anaconda3\\lib\\site-packages (from tqdm>=2.0->sklearn-crfsuite->pyvi) (0.4.6)\n",
      "Note: you may need to restart the kernel to use updated packages.\n"
     ]
    }
   ],
   "source": [
    "pip install pyvi"
   ]
  },
  {
   "cell_type": "code",
   "execution_count": 3,
   "metadata": {
    "colab": {
     "base_uri": "https://localhost:8080/"
    },
    "collapsed": true,
    "id": "QK9VGJ5FDUji",
    "jupyter": {
     "outputs_hidden": true
    },
    "outputId": "05bceaab-21f9-4f4c-908c-e6362625f2ec"
   },
   "outputs": [
    {
     "name": "stdout",
     "output_type": "stream",
     "text": [
      "Requirement already satisfied: underthesea in f:\\installed\\anaconda3\\lib\\site-packages (6.8.4)Note: you may need to restart the kernel to use updated packages.\n",
      "\n",
      "Requirement already satisfied: Click>=6.0 in f:\\installed\\anaconda3\\lib\\site-packages (from underthesea) (8.1.7)\n",
      "Requirement already satisfied: python-crfsuite>=0.9.6 in f:\\installed\\anaconda3\\lib\\site-packages (from underthesea) (0.9.9)\n",
      "Requirement already satisfied: nltk in f:\\installed\\anaconda3\\lib\\site-packages (from underthesea) (3.8.1)\n",
      "Requirement already satisfied: tqdm in f:\\installed\\anaconda3\\lib\\site-packages (from underthesea) (4.65.0)\n",
      "Requirement already satisfied: requests in f:\\installed\\anaconda3\\lib\\site-packages (from underthesea) (2.31.0)\n",
      "Requirement already satisfied: joblib in f:\\installed\\anaconda3\\lib\\site-packages (from underthesea) (1.2.0)\n",
      "Requirement already satisfied: scikit-learn in f:\\installed\\anaconda3\\lib\\site-packages (from underthesea) (1.2.2)\n",
      "Requirement already satisfied: PyYAML in f:\\installed\\anaconda3\\lib\\site-packages (from underthesea) (6.0.1)\n",
      "Requirement already satisfied: underthesea-core==1.0.4 in f:\\installed\\anaconda3\\lib\\site-packages (from underthesea) (1.0.4)\n",
      "Requirement already satisfied: colorama in f:\\installed\\anaconda3\\lib\\site-packages (from Click>=6.0->underthesea) (0.4.6)\n",
      "Requirement already satisfied: regex>=2021.8.3 in f:\\installed\\anaconda3\\lib\\site-packages (from nltk->underthesea) (2023.10.3)\n",
      "Requirement already satisfied: charset-normalizer<4,>=2 in f:\\installed\\anaconda3\\lib\\site-packages (from requests->underthesea) (2.0.4)\n",
      "Requirement already satisfied: idna<4,>=2.5 in f:\\installed\\anaconda3\\lib\\site-packages (from requests->underthesea) (3.4)\n",
      "Requirement already satisfied: urllib3<3,>=1.21.1 in f:\\installed\\anaconda3\\lib\\site-packages (from requests->underthesea) (2.0.7)\n",
      "Requirement already satisfied: certifi>=2017.4.17 in f:\\installed\\anaconda3\\lib\\site-packages (from requests->underthesea) (2025.1.31)\n",
      "Requirement already satisfied: numpy>=1.17.3 in f:\\installed\\anaconda3\\lib\\site-packages (from scikit-learn->underthesea) (1.26.4)\n",
      "Requirement already satisfied: scipy>=1.3.2 in f:\\installed\\anaconda3\\lib\\site-packages (from scikit-learn->underthesea) (1.11.4)\n",
      "Requirement already satisfied: threadpoolctl>=2.0.0 in f:\\installed\\anaconda3\\lib\\site-packages (from scikit-learn->underthesea) (2.2.0)\n"
     ]
    }
   ],
   "source": [
    "pip install underthesea"
   ]
  },
  {
   "cell_type": "code",
   "execution_count": 4,
   "metadata": {
    "id": "yYYYdSL1QzNz"
   },
   "outputs": [],
   "source": [
    "import pandas as pd\n",
    "import numpy as np\n",
    "import matplotlib.pyplot as plt\n",
    "import seaborn as sns"
   ]
  },
  {
   "cell_type": "code",
   "execution_count": 119,
   "metadata": {
    "id": "vytv6XlGkfXu"
   },
   "outputs": [],
   "source": [
    "from underthesea import word_tokenize, pos_tag\n",
    "from pyvi import ViTokenizer, ViPosTagger\n",
    "from collections import Counter\n",
    "\n",
    "# Sklearn: Các mô-đun hỗ trợ Machine Learning\n",
    "from sklearn import model_selection, preprocessing, linear_model, naive_bayes, metrics, svm\n",
    "from sklearn import decomposition, ensemble\n",
    "from sklearn.model_selection import train_test_split\n",
    "from sklearn.preprocessing import LabelEncoder\n",
    "from sklearn.decomposition import TruncatedSVD\n",
    "from sklearn.feature_extraction.text import TfidfVectorizer, CountVectorizer\n",
    "from sklearn.datasets import make_classification\n",
    "\n",
    "# thư viện NLP tiếng Việt\n",
    "from tqdm import tqdm\n",
    "import pickle\n",
    "import unidecode\n",
    "import gensim"
   ]
  },
  {
   "cell_type": "markdown",
   "metadata": {
    "id": "oF5dYTYMJKTh",
    "jp-MarkdownHeadingCollapsed": true
   },
   "source": [
    "# **IMPORT DATA**"
   ]
  },
  {
   "cell_type": "code",
   "execution_count": 8,
   "metadata": {
    "colab": {
     "base_uri": "https://localhost:8080/",
     "height": 423
    },
    "id": "1d1TD3FBMrPT",
    "outputId": "dbaafae4-b081-4865-b680-5a55b1920e70"
   },
   "outputs": [
    {
     "data": {
      "text/html": [
       "<div>\n",
       "<style scoped>\n",
       "    .dataframe tbody tr th:only-of-type {\n",
       "        vertical-align: middle;\n",
       "    }\n",
       "\n",
       "    .dataframe tbody tr th {\n",
       "        vertical-align: top;\n",
       "    }\n",
       "\n",
       "    .dataframe thead th {\n",
       "        text-align: right;\n",
       "    }\n",
       "</style>\n",
       "<table border=\"1\" class=\"dataframe\">\n",
       "  <thead>\n",
       "    <tr style=\"text-align: right;\">\n",
       "      <th></th>\n",
       "      <th>Disease</th>\n",
       "      <th>Department</th>\n",
       "      <th>Symptom</th>\n",
       "      <th>Category</th>\n",
       "    </tr>\n",
       "  </thead>\n",
       "  <tbody>\n",
       "    <tr>\n",
       "      <th>0</th>\n",
       "      <td>Ảo giác</td>\n",
       "      <td>Tâm thần</td>\n",
       "      <td>Người bệnh có thể bị căng thẳng, mất ngủ, đờ đ...</td>\n",
       "      <td>Knownledge</td>\n",
       "    </tr>\n",
       "    <tr>\n",
       "      <th>1</th>\n",
       "      <td>Rối loạn đa nhân cách</td>\n",
       "      <td>Tâm thần</td>\n",
       "      <td>Người mắc bệnh rối loạn đa nhân cách thường có...</td>\n",
       "      <td>Knownledge</td>\n",
       "    </tr>\n",
       "    <tr>\n",
       "      <th>2</th>\n",
       "      <td>Rối loạn giấc ngủ</td>\n",
       "      <td>Tâm thần</td>\n",
       "      <td>Triệu chứng chung của những người bị mắc chứng...</td>\n",
       "      <td>Knownledge</td>\n",
       "    </tr>\n",
       "    <tr>\n",
       "      <th>3</th>\n",
       "      <td>Trầm cảm</td>\n",
       "      <td>Tâm thần</td>\n",
       "      <td>Bệnh nhân khi bị trầm cảm sẽ có các biểu hiện ...</td>\n",
       "      <td>Knownledge</td>\n",
       "    </tr>\n",
       "    <tr>\n",
       "      <th>4</th>\n",
       "      <td>Mất ngủ ở người cao tuổi</td>\n",
       "      <td>Tâm thần</td>\n",
       "      <td>Triệu chứng của mất ngủ ở người cao tuổi là kh...</td>\n",
       "      <td>Knownledge</td>\n",
       "    </tr>\n",
       "    <tr>\n",
       "      <th>...</th>\n",
       "      <td>...</td>\n",
       "      <td>...</td>\n",
       "      <td>...</td>\n",
       "      <td>...</td>\n",
       "    </tr>\n",
       "    <tr>\n",
       "      <th>28022</th>\n",
       "      <td>NaN</td>\n",
       "      <td>Dị ứng</td>\n",
       "      <td>Tôi hay bị mẩn ngứa khi ăn cua, ghẹ (đặc biệt ...</td>\n",
       "      <td>News</td>\n",
       "    </tr>\n",
       "    <tr>\n",
       "      <th>28023</th>\n",
       "      <td>NaN</td>\n",
       "      <td>Hô hấp</td>\n",
       "      <td>Dấu hiệu của bệnh viêm phế quản là gì? .Viêm p...</td>\n",
       "      <td>News</td>\n",
       "    </tr>\n",
       "    <tr>\n",
       "      <th>28024</th>\n",
       "      <td>NaN</td>\n",
       "      <td>Nam khoa</td>\n",
       "      <td>Vợ chồng cháu đi khám hiếm muộn thì cần phải l...</td>\n",
       "      <td>News</td>\n",
       "    </tr>\n",
       "    <tr>\n",
       "      <th>28025</th>\n",
       "      <td>NaN</td>\n",
       "      <td>Nội tiết</td>\n",
       "      <td>Bệnh nhân tiền sử tiểu đường tuýp 2 nóng rát t...</td>\n",
       "      <td>News</td>\n",
       "    </tr>\n",
       "    <tr>\n",
       "      <th>28026</th>\n",
       "      <td>NaN</td>\n",
       "      <td>Máu</td>\n",
       "      <td>Người bị thiếu máu nhược sắc có cần uống .Tard...</td>\n",
       "      <td>News</td>\n",
       "    </tr>\n",
       "  </tbody>\n",
       "</table>\n",
       "<p>28027 rows × 4 columns</p>\n",
       "</div>"
      ],
      "text/plain": [
       "                        Disease Department  \\\n",
       "0                       Ảo giác   Tâm thần   \n",
       "1         Rối loạn đa nhân cách   Tâm thần   \n",
       "2             Rối loạn giấc ngủ   Tâm thần   \n",
       "3                      Trầm cảm   Tâm thần   \n",
       "4      Mất ngủ ở người cao tuổi   Tâm thần   \n",
       "...                         ...        ...   \n",
       "28022                       NaN     Dị ứng   \n",
       "28023                       NaN     Hô hấp   \n",
       "28024                       NaN   Nam khoa   \n",
       "28025                       NaN   Nội tiết   \n",
       "28026                       NaN        Máu   \n",
       "\n",
       "                                                 Symptom    Category  \n",
       "0      Người bệnh có thể bị căng thẳng, mất ngủ, đờ đ...  Knownledge  \n",
       "1      Người mắc bệnh rối loạn đa nhân cách thường có...  Knownledge  \n",
       "2      Triệu chứng chung của những người bị mắc chứng...  Knownledge  \n",
       "3      Bệnh nhân khi bị trầm cảm sẽ có các biểu hiện ...  Knownledge  \n",
       "4      Triệu chứng của mất ngủ ở người cao tuổi là kh...  Knownledge  \n",
       "...                                                  ...         ...  \n",
       "28022  Tôi hay bị mẩn ngứa khi ăn cua, ghẹ (đặc biệt ...        News  \n",
       "28023  Dấu hiệu của bệnh viêm phế quản là gì? .Viêm p...        News  \n",
       "28024  Vợ chồng cháu đi khám hiếm muộn thì cần phải l...        News  \n",
       "28025  Bệnh nhân tiền sử tiểu đường tuýp 2 nóng rát t...        News  \n",
       "28026  Người bị thiếu máu nhược sắc có cần uống .Tard...        News  \n",
       "\n",
       "[28027 rows x 4 columns]"
      ]
     },
     "execution_count": 8,
     "metadata": {},
     "output_type": "execute_result"
    }
   ],
   "source": [
    "#url = 'https://raw.githubusercontent.com/anhlam-road/Med_Specialty_Classifier/refs/heads/main/disease_11k.csv'\n",
    "#url = 'https://raw.githubusercontent.com/anhlam-road/Med_Specialty_Classifier/refs/heads/main/train_d.csv'\n",
    "url = 'https://raw.githubusercontent.com/anhlam-road/Med_Specialty_Classifier/refs/heads/main/raw_disease_updated.csv'\n",
    "df = pd.read_csv(url)\n",
    "df"
   ]
  },
  {
   "cell_type": "code",
   "execution_count": 10,
   "metadata": {
    "colab": {
     "base_uri": "https://localhost:8080/"
    },
    "id": "HSFj8QXZgbdh",
    "outputId": "8da58bc9-9127-4bc8-f672-32d0ba0972ef"
   },
   "outputs": [
    {
     "name": "stdout",
     "output_type": "stream",
     "text": [
      "Thông tin tổng quan về DataFrame:\n",
      "<class 'pandas.core.frame.DataFrame'>\n",
      "RangeIndex: 28027 entries, 0 to 28026\n",
      "Data columns (total 4 columns):\n",
      " #   Column      Non-Null Count  Dtype \n",
      "---  ------      --------------  ----- \n",
      " 0   Disease     5029 non-null   object\n",
      " 1   Department  28027 non-null  object\n",
      " 2   Symptom     28027 non-null  object\n",
      " 3   Category    28027 non-null  object\n",
      "dtypes: object(4)\n",
      "memory usage: 876.0+ KB\n",
      "None\n",
      "\n",
      "Số lượng giá trị bị thiếu trong mỗi cột:\n",
      "Disease       22998\n",
      "Department        0\n",
      "Symptom           0\n",
      "Category          0\n",
      "dtype: int64\n",
      "\n",
      "Số lượng dòng trùng lặp: 762\n"
     ]
    }
   ],
   "source": [
    "# Thông tin về số dòng, số cột, kiểu dữ liệu\n",
    "print(\"Thông tin tổng quan về DataFrame:\")\n",
    "print(df.info())\n",
    "\n",
    "# Kiểm tra missing values\n",
    "print(\"\\nSố lượng giá trị bị thiếu trong mỗi cột:\")\n",
    "print(df.isnull().sum())\n",
    "\n",
    "# Kiểm tra số lượng dòng trùng\n",
    "duplicate_rows = df.duplicated().sum()\n",
    "print(f\"\\nSố lượng dòng trùng lặp: {duplicate_rows}\")"
   ]
  },
  {
   "cell_type": "markdown",
   "metadata": {
    "id": "3ytZ_3rpPVt8"
   },
   "source": [
    "# **CLEAN SYMPTOM**"
   ]
  },
  {
   "cell_type": "code",
   "execution_count": null,
   "metadata": {
    "id": "l27DfEJvVqSU"
   },
   "outputs": [],
   "source": [
    "#CÁC HÀM XỬ LÝ NỘI DUNG SYMPTOM"
   ]
  },
  {
   "cell_type": "code",
   "execution_count": null,
   "metadata": {},
   "outputs": [],
   "source": []
  },
  {
   "cell_type": "markdown",
   "metadata": {
    "id": "BAofakfuJRXq",
    "jp-MarkdownHeadingCollapsed": true
   },
   "source": [
    "# **PRE - PROCESSING**"
   ]
  },
  {
   "cell_type": "code",
   "execution_count": 18,
   "metadata": {
    "colab": {
     "base_uri": "https://localhost:8080/"
    },
    "id": "aD44ikZehpfY",
    "outputId": "a1f4b57c-a824-42f0-a524-269334b01fbd"
   },
   "outputs": [
    {
     "name": "stdout",
     "output_type": "stream",
     "text": [
      "\n",
      "Số lượng giá trị bị thiếu trong mỗi cột:\n",
      "Department    0\n",
      "Symptom       0\n",
      "Category      0\n",
      "dtype: int64\n",
      "\n",
      "Số lượng dòng trùng lặp: 0\n",
      "<class 'pandas.core.frame.DataFrame'>\n",
      "Int64Index: 27257 entries, 0 to 28026\n",
      "Data columns (total 3 columns):\n",
      " #   Column      Non-Null Count  Dtype \n",
      "---  ------      --------------  ----- \n",
      " 0   Department  27257 non-null  object\n",
      " 1   Symptom     27257 non-null  object\n",
      " 2   Category    27257 non-null  object\n",
      "dtypes: object(3)\n",
      "memory usage: 851.8+ KB\n",
      "None\n"
     ]
    }
   ],
   "source": [
    "# Xóa dòng chứa giá trị bị thiếu\n",
    "#df1 = df.dropna()\n",
    "\n",
    "df1 = df.drop('Disease', axis=1)\n",
    "\n",
    "# Xóa dòng trùng lặp\n",
    "df1 = df1.drop_duplicates()\n",
    "\n",
    "# Kiểm tra missing values\n",
    "print(\"\\nSố lượng giá trị bị thiếu trong mỗi cột:\")\n",
    "print(df1.isnull().sum())\n",
    "\n",
    "# Kiểm tra số lượng dòng trùng\n",
    "duplicate_rows = df1.duplicated().sum()\n",
    "print(f\"\\nSố lượng dòng trùng lặp: {duplicate_rows}\")\n",
    "\n",
    "print(df1.info())"
   ]
  },
  {
   "cell_type": "markdown",
   "metadata": {
    "id": "P5ZDLLuLY7Uc"
   },
   "source": [
    "## DEPARTMENT"
   ]
  },
  {
   "cell_type": "code",
   "execution_count": 29,
   "metadata": {
    "colab": {
     "base_uri": "https://localhost:8080/"
    },
    "collapsed": true,
    "id": "sMd8r2xm28GX",
    "jupyter": {
     "outputs_hidden": true
    },
    "outputId": "bfad7d7c-8116-452c-c507-0ee9f95addbf",
    "scrolled": true
   },
   "outputs": [
    {
     "name": "stdout",
     "output_type": "stream",
     "text": [
      "Xét nghiệm              2740\n",
      "Nội tiết                2033\n",
      "Truyền nhiễm            1871\n",
      "Tai mũi họng            1668\n",
      "Dinh dưỡng              1499\n",
      "Răng hàm mặt            1485\n",
      "Da liễu                 1384\n",
      "Hô hấp                  1373\n",
      "Tiêu hóa                1186\n",
      "Thần kinh               1101\n",
      "Máu                     1007\n",
      "Dị ứng                   992\n",
      "Nội thần kinh            987\n",
      "Mắt                      897\n",
      "Tiết niệu                809\n",
      "Tim mạch                 703\n",
      "Ung thư                  644\n",
      "Ngoại thần kinh          631\n",
      "Tâm lý                   609\n",
      "Tâm thần                 515\n",
      "Mạch máu                 383\n",
      "Ung bướu                 359\n",
      "Cơ xương khớp            347\n",
      "Tiêu hóa - Gan mật       347\n",
      "Nam khoa                 302\n",
      "Ngoại lồng ngực          277\n",
      "Thận tiết niệu           135\n",
      "Sức khỏe sinh sản        133\n",
      "Da tóc móng              122\n",
      "Di truyền                114\n",
      "Nội tiết chuyển hóa       93\n",
      "Sản phụ khoa              92\n",
      "Sức khỏe giới tính        74\n",
      "Nam học                   35\n",
      "Nuôi dạy con              34\n",
      "Máu miễn dịch             31\n",
      "Sức khỏe tổng quát        31\n",
      "Vú nhũ                    29\n",
      "Sức khỏe nam giới         28\n",
      "Chẩn đoán hình ảnh        28\n",
      "Sức khoẻ nữ giới      27\n",
      "Nhi                       26\n",
      "Nhãn khoa                 20\n",
      "Mang thai                 20\n",
      "Hỗ trợ sinh sản ivf       14\n",
      "Đầu mặt cổ                10\n",
      "Bí quyết sống khỏe         7\n",
      "Sức khỏe tình dục          2\n",
      "Giấc ngủ ngon              2\n",
      "Dinh dưỡng tiết chế        1\n",
      "Name: Department, dtype: int64\n"
     ]
    }
   ],
   "source": [
    "df2 = df1.copy()\n",
    "print(df2[\"Department\"].value_counts())"
   ]
  },
  {
   "cell_type": "code",
   "execution_count": 90,
   "metadata": {
    "colab": {
     "base_uri": "https://localhost:8080/",
     "height": 327
    },
    "id": "q03TuA5o2DY4",
    "outputId": "e4ca2a1f-75cc-44ed-b850-28f6705ff7bb"
   },
   "outputs": [],
   "source": [
    "# Tạo từ điển mapping cho các nhãn tương đồng và chuẩn hóa về chữ thường không dấu\n",
    "department_mapping = {\n",
    "    \"Tim mach Long nguc\": [\"tim mach\", \"ngoai long nguc\"],\n",
    "    \"Tieu hoa\": [\"tieu hoa\", \"tieu hoa - gan mat\"],\n",
    "    \"Co Xuong Khop\": [\"co xuong khop\"],\n",
    "    \"Than Tiet nieu\": [\"tiet nieu\", \"than tiet nieu\"],\n",
    "    \"Noi tiet\": [\"noi tiet\", \"noi tiet chuyen hoa\"],\n",
    "    \"Di ung\": [\"di ung\"],\n",
    "    \"Truyen nhiem\": [\"truyen nhiem\"],\n",
    "    \"Da lieu\": [\"da lieu\", \"da toc mong\"],\n",
    "    \"Than kinh\": [\"noi than kinh\", \"ngoai than kinh\", \"than kinh\", \"dau mat co\"],\n",
    "    \"Tam than\": [\"tam than\", \"tam ly\"],\n",
    "    \"Ung buou\": [\"ung thu\", \"ung buou\"],\n",
    "    \"Suc khoe gioi tinh\": [\"suc khoe gioi tinh\", \"suc khoe nam gioi\", \"suc khoe nu gioi\", \"suc khoe tinh duc\", \"nam hoc\", \"nam khoa\"],\n",
    "    \"Phu san\": [\"suc khoe sinh san\", \"san phu khoa\", \"vu nhu\", \"mang thai\", \"ho tro sinh san ivf\", \"nuoi day con\"],\n",
    "    \"Tai Mui Hong\": [\"tai mui hong\"],\n",
    "    \"Rang Ham Mat\": [\"rang ham mat\"],\n",
    "    \"Mat\": [\"mat\", \"nhan khoa\"],\n",
    "    \"Mau\": [\"mau\", \"mach mau\", \"mau mien dich\"],\n",
    "    \"Xet nghiem\": [\"xet nghiem\", \"di truyen\"],\n",
    "    \"Dinh duong\": [\"dinh duong\", \"dinh duong tiet che\", \"bi quyet song khoe\", \"giac ngu ngon\"],\n",
    "    \"Ho hap\": [\"ho hap\"],\n",
    "}\n",
    "#Xoá chan doan hinh anh, nhi, suc khoe tong quat\n",
    "# Hàm chuyển đổi chuỗi thành không dấu\n",
    "def remove_accents(input_str):\n",
    "    return unidecode.unidecode(input_str)\n",
    "\n",
    "# Hàm chuẩn hóa theo từ điển mapping (không dấu)\n",
    "def map_department(department):\n",
    "    department = department.strip().lower()  # Chuyển về chữ thường và loại bỏ khoảng trắng thừa\n",
    "    department = remove_accents(department)  # Loại bỏ dấu\n",
    "    for key, values in department_mapping.items():\n",
    "        # Kiểm tra nếu department có trong danh sách các giá trị đã chuẩn hóa không dấu\n",
    "        if department in [remove_accents(val).lower() for val in values]:\n",
    "            return key\n",
    "    return department  # Nếu không có trong mapping thì giữ nguyên\n",
    "\n",
    "# Danh sách các department cần xoá (đã chuẩn hoá không dấu và chữ thường)\n",
    "departments_to_remove = [\"chan doan hinh anh\", \"nhi\", \"suc khoe tong quat\"]\n"
   ]
  },
  {
   "cell_type": "code",
   "execution_count": 92,
   "metadata": {
    "colab": {
     "base_uri": "https://localhost:8080/"
    },
    "id": "SNFUm2mwjVT6",
    "outputId": "5d9f78f9-c2e3-492d-8d01-96173b76be8b"
   },
   "outputs": [
    {
     "name": "stdout",
     "output_type": "stream",
     "text": [
      "Các giá trị duy nhất sau khi mapping: ['Tam than' 'Than Tiet nieu' 'Ho hap' 'Than kinh' 'Truyen nhiem'\n",
      " 'Tim mach Long nguc' 'Suc khoe gioi tinh' 'Noi tiet' 'Tieu hoa' 'Mau'\n",
      " 'Ung buou' 'Xet nghiem' 'Rang Ham Mat' 'Tai Mui Hong' 'Di ung' 'Mat'\n",
      " 'Da lieu' 'Dinh duong' 'Phu san' 'Co Xuong Khop']\n"
     ]
    },
    {
     "data": {
      "text/html": [
       "<div>\n",
       "<style scoped>\n",
       "    .dataframe tbody tr th:only-of-type {\n",
       "        vertical-align: middle;\n",
       "    }\n",
       "\n",
       "    .dataframe tbody tr th {\n",
       "        vertical-align: top;\n",
       "    }\n",
       "\n",
       "    .dataframe thead th {\n",
       "        text-align: right;\n",
       "    }\n",
       "</style>\n",
       "<table border=\"1\" class=\"dataframe\">\n",
       "  <thead>\n",
       "    <tr style=\"text-align: right;\">\n",
       "      <th></th>\n",
       "      <th>Department</th>\n",
       "      <th>Symptom</th>\n",
       "      <th>Category</th>\n",
       "    </tr>\n",
       "  </thead>\n",
       "  <tbody>\n",
       "    <tr>\n",
       "      <th>0</th>\n",
       "      <td>Tam than</td>\n",
       "      <td>Người bệnh có thể bị căng thẳng, mất ngủ, đờ đ...</td>\n",
       "      <td>Knownledge</td>\n",
       "    </tr>\n",
       "    <tr>\n",
       "      <th>1</th>\n",
       "      <td>Tam than</td>\n",
       "      <td>Người mắc bệnh rối loạn đa nhân cách thường có...</td>\n",
       "      <td>Knownledge</td>\n",
       "    </tr>\n",
       "    <tr>\n",
       "      <th>2</th>\n",
       "      <td>Tam than</td>\n",
       "      <td>Triệu chứng chung của những người bị mắc chứng...</td>\n",
       "      <td>Knownledge</td>\n",
       "    </tr>\n",
       "    <tr>\n",
       "      <th>3</th>\n",
       "      <td>Tam than</td>\n",
       "      <td>Bệnh nhân khi bị trầm cảm sẽ có các biểu hiện ...</td>\n",
       "      <td>Knownledge</td>\n",
       "    </tr>\n",
       "    <tr>\n",
       "      <th>4</th>\n",
       "      <td>Tam than</td>\n",
       "      <td>Triệu chứng của mất ngủ ở người cao tuổi là kh...</td>\n",
       "      <td>Knownledge</td>\n",
       "    </tr>\n",
       "  </tbody>\n",
       "</table>\n",
       "</div>"
      ],
      "text/plain": [
       "  Department                                            Symptom    Category\n",
       "0   Tam than  Người bệnh có thể bị căng thẳng, mất ngủ, đờ đ...  Knownledge\n",
       "1   Tam than  Người mắc bệnh rối loạn đa nhân cách thường có...  Knownledge\n",
       "2   Tam than  Triệu chứng chung của những người bị mắc chứng...  Knownledge\n",
       "3   Tam than  Bệnh nhân khi bị trầm cảm sẽ có các biểu hiện ...  Knownledge\n",
       "4   Tam than  Triệu chứng của mất ngủ ở người cao tuổi là kh...  Knownledge"
      ]
     },
     "execution_count": 92,
     "metadata": {},
     "output_type": "execute_result"
    }
   ],
   "source": [
    "df2 = df1.copy()\n",
    "\n",
    "# Áp dụng mapping vào cột Department\n",
    "df2[\"Department\"] = df2[\"Department\"].apply(map_department)\n",
    "\n",
    "# Xoá các dòng có Department nằm trong danh sách trên\n",
    "df2 = df2[~df2[\"Department\"].isin(departments_to_remove)]\n",
    "\n",
    "# Kiểm tra lại các giá trị duy nhất sau khi mapping\n",
    "print(\"Các giá trị duy nhất sau khi mapping:\", df2[\"Department\"].unique())\n",
    "\n",
    "# Xem kết quả\n",
    "df2.head()"
   ]
  },
  {
   "cell_type": "code",
   "execution_count": 94,
   "metadata": {
    "colab": {
     "base_uri": "https://localhost:8080/"
    },
    "id": "SNFUm2mwjVT6",
    "outputId": "5d9f78f9-c2e3-492d-8d01-96173b76be8b"
   },
   "outputs": [
    {
     "name": "stdout",
     "output_type": "stream",
     "text": [
      "Xet nghiem            2854\n",
      "Than kinh             2729\n",
      "Noi tiet              2126\n",
      "Truyen nhiem          1871\n",
      "Tai Mui Hong          1668\n",
      "Tieu hoa              1533\n",
      "Dinh duong            1509\n",
      "Da lieu               1506\n",
      "Rang Ham Mat          1485\n",
      "Mau                   1421\n",
      "Ho hap                1373\n",
      "Tam than              1124\n",
      "Ung buou              1003\n",
      "Di ung                 992\n",
      "Tim mach Long nguc     980\n",
      "Than Tiet nieu         944\n",
      "Mat                    917\n",
      "Suc khoe gioi tinh     468\n",
      "Co Xuong Khop          347\n",
      "Phu san                322\n",
      "Name: Department, dtype: int64\n"
     ]
    }
   ],
   "source": [
    "print(df2[\"Department\"].value_counts())"
   ]
  },
  {
   "cell_type": "code",
   "execution_count": 96,
   "metadata": {},
   "outputs": [
    {
     "name": "stdout",
     "output_type": "stream",
     "text": [
      "Category              Knownledge  News    QA\n",
      "Department                                  \n",
      "Bí quyết sống khỏe             7     0     0\n",
      "Chẩn đoán hình ảnh             3     0    25\n",
      "Cơ xương khớp                320     0    27\n",
      "Da liễu                       95  1047   242\n",
      "Da tóc móng                  122     0     0\n",
      "Di truyền                      9   105     0\n",
      "Dinh dưỡng                     2  1008   489\n",
      "Dinh dưỡng tiết chế            1     0     0\n",
      "Dị ứng                        29   733   230\n",
      "Giấc ngủ ngon                  2     0     0\n",
      "Hô hấp                       169  1032   172\n",
      "Hỗ trợ sinh sản ivf           14     0     0\n",
      "Mang thai                     20     0     0\n",
      "Máu                           48   399   560\n",
      "Máu miễn dịch                 31     0     0\n",
      "Mạch máu                      41   342     0\n",
      "Mắt                          124   371   402\n",
      "Nam học                       35     0     0\n",
      "Nam khoa                       5   297     0\n",
      "Ngoại lồng ngực               11   266     0\n",
      "Ngoại thần kinh               26   605     0\n",
      "Nhi                           26     0     0\n",
      "Nhãn khoa                     13     0     7\n",
      "Nuôi dạy con                  34     0     0\n",
      "Nội thần kinh                 34   953     0\n",
      "Nội tiết                      88  1712   233\n",
      "Nội tiết chuyển hóa           93     0     0\n",
      "Răng hàm mặt                 107   984   394\n",
      "Sức khoẻ nữ giới          27     0     0\n",
      "Sản phụ khoa                  61     0    31\n",
      "Sức khỏe giới tính            74     0     0\n",
      "Sức khỏe nam giới             25     0     3\n",
      "Sức khỏe sinh sản            118     0    15\n",
      "Sức khỏe tình dục              2     0     0\n",
      "Sức khỏe tổng quát            18     0    13\n",
      "Tai mũi họng                 214   796   658\n",
      "Thần kinh                    362    31   708\n",
      "Thận tiết niệu               135     0     0\n",
      "Tim mạch                     493   144    66\n",
      "Tiêu hóa                     421   465   300\n",
      "Tiêu hóa - Gan mật            31   316     0\n",
      "Tiết niệu                     49   586   174\n",
      "Truyền nhiễm                 253  1586    32\n",
      "Tâm lý                         6   345   258\n",
      "Tâm thần                     149   317    49\n",
      "Ung bướu                      93   245    21\n",
      "Ung thư                      199   346    99\n",
      "Vú nhũ                        29     0     0\n",
      "Xét nghiệm                     7  1449  1284\n",
      "Đầu mặt cổ                     2     0     8\n"
     ]
    }
   ],
   "source": [
    "pivot_table = df1.pivot_table(index=\"Department\", columns=\"Category\", aggfunc='size', fill_value=0)\n",
    "print(pivot_table)"
   ]
  },
  {
   "cell_type": "code",
   "execution_count": 98,
   "metadata": {},
   "outputs": [
    {
     "name": "stdout",
     "output_type": "stream",
     "text": [
      "Category            Knownledge  News    QA\n",
      "Department                                \n",
      "Co Xuong Khop              320     0    27\n",
      "Da lieu                    217  1047   242\n",
      "Di ung                      29   733   230\n",
      "Dinh duong                  12  1008   489\n",
      "Ho hap                     169  1032   172\n",
      "Mat                        137   371   409\n",
      "Mau                        120   741   560\n",
      "Noi tiet                   181  1712   233\n",
      "Phu san                    276     0    46\n",
      "Rang Ham Mat               107   984   394\n",
      "Suc khoe gioi tinh         168   297     3\n",
      "Tai Mui Hong               214   796   658\n",
      "Tam than                   155   662   307\n",
      "Than Tiet nieu             184   586   174\n",
      "Than kinh                  424  1589   716\n",
      "Tieu hoa                   452   781   300\n",
      "Tim mach Long nguc         504   410    66\n",
      "Truyen nhiem               253  1586    32\n",
      "Ung buou                   292   591   120\n",
      "Xet nghiem                  16  1554  1284\n"
     ]
    }
   ],
   "source": [
    "pivot_table = df2.pivot_table(index=\"Department\", columns=\"Category\", aggfunc='size', fill_value=0)\n",
    "print(pivot_table)"
   ]
  },
  {
   "cell_type": "markdown",
   "metadata": {
    "id": "O_gAYfy2Y_LO"
   },
   "source": [
    "## SYMPTOM"
   ]
  },
  {
   "cell_type": "code",
   "execution_count": 64,
   "metadata": {
    "id": "zY3sEitXsCtk"
   },
   "outputs": [],
   "source": [
    "# Hàm xử lý dữ liệu trong cột Symptom\n",
    "def preprocess_symptom(symptom):\n",
    "    symptom = gensim.utils.simple_preprocess(symptom)  # Tiền xử lý văn bản\n",
    "    symptom = ' '.join(symptom)  # Chuyển danh sách từ thành chuỗi\n",
    "    symptom = ViTokenizer.tokenize(symptom)  # Tách từ tiếng Việt\n",
    "    return symptom"
   ]
  },
  {
   "cell_type": "code",
   "execution_count": 62,
   "metadata": {
    "colab": {
     "base_uri": "https://localhost:8080/",
     "height": 206
    },
    "id": "CeAsWZ9ovOGP",
    "outputId": "62a81def-1eb6-499d-eb50-6502c35724eb"
   },
   "outputs": [
    {
     "data": {
      "text/html": [
       "<div>\n",
       "<style scoped>\n",
       "    .dataframe tbody tr th:only-of-type {\n",
       "        vertical-align: middle;\n",
       "    }\n",
       "\n",
       "    .dataframe tbody tr th {\n",
       "        vertical-align: top;\n",
       "    }\n",
       "\n",
       "    .dataframe thead th {\n",
       "        text-align: right;\n",
       "    }\n",
       "</style>\n",
       "<table border=\"1\" class=\"dataframe\">\n",
       "  <thead>\n",
       "    <tr style=\"text-align: right;\">\n",
       "      <th></th>\n",
       "      <th>Department</th>\n",
       "      <th>Symptom</th>\n",
       "      <th>Category</th>\n",
       "    </tr>\n",
       "  </thead>\n",
       "  <tbody>\n",
       "    <tr>\n",
       "      <th>0</th>\n",
       "      <td>Tam than</td>\n",
       "      <td>người_bệnh có_thể bị căng_thẳng mất_ngủ đờ_đẫn...</td>\n",
       "      <td>Knownledge</td>\n",
       "    </tr>\n",
       "    <tr>\n",
       "      <th>1</th>\n",
       "      <td>Tam than</td>\n",
       "      <td>người mắc bệnh rối_loạn đa nhân_cách thường có...</td>\n",
       "      <td>Knownledge</td>\n",
       "    </tr>\n",
       "    <tr>\n",
       "      <th>2</th>\n",
       "      <td>Tam than</td>\n",
       "      <td>triệu_chứng chung của những người bị mắc chứng...</td>\n",
       "      <td>Knownledge</td>\n",
       "    </tr>\n",
       "    <tr>\n",
       "      <th>3</th>\n",
       "      <td>Tam than</td>\n",
       "      <td>bệnh_nhân khi bị trầm_cảm sẽ có các biểu_hiện ...</td>\n",
       "      <td>Knownledge</td>\n",
       "    </tr>\n",
       "    <tr>\n",
       "      <th>4</th>\n",
       "      <td>Tam than</td>\n",
       "      <td>triệu_chứng của mất_ngủ người cao_tuổi là khó ...</td>\n",
       "      <td>Knownledge</td>\n",
       "    </tr>\n",
       "  </tbody>\n",
       "</table>\n",
       "</div>"
      ],
      "text/plain": [
       "  Department                                            Symptom    Category\n",
       "0   Tam than  người_bệnh có_thể bị căng_thẳng mất_ngủ đờ_đẫn...  Knownledge\n",
       "1   Tam than  người mắc bệnh rối_loạn đa nhân_cách thường có...  Knownledge\n",
       "2   Tam than  triệu_chứng chung của những người bị mắc chứng...  Knownledge\n",
       "3   Tam than  bệnh_nhân khi bị trầm_cảm sẽ có các biểu_hiện ...  Knownledge\n",
       "4   Tam than  triệu_chứng của mất_ngủ người cao_tuổi là khó ...  Knownledge"
      ]
     },
     "execution_count": 62,
     "metadata": {},
     "output_type": "execute_result"
    }
   ],
   "source": [
    "df3 = df2.copy()\n",
    "# Áp dụng xử lý lên cột Symptom\n",
    "df3[\"Symptom\"] = df3[\"Symptom\"].apply(preprocess_symptom)\n",
    "\n",
    "# Xem kết quả sau khi xử lý\n",
    "df3.head()"
   ]
  },
  {
   "cell_type": "markdown",
   "metadata": {
    "id": "i0-dk7RP_swP"
   },
   "source": [
    "## LABEL ENCONDING"
   ]
  },
  {
   "cell_type": "code",
   "execution_count": 100,
   "metadata": {
    "colab": {
     "base_uri": "https://localhost:8080/"
    },
    "id": "X4jLe0dZjG0U",
    "outputId": "fb5e7958-cb79-41d5-c1c1-1902ca023d15"
   },
   "outputs": [
    {
     "data": {
      "text/plain": [
       "array(['Co Xuong Khop', 'Da lieu', 'Di ung', 'Dinh dưỡng', 'Hô hấp',\n",
       "       'Mat', 'Mau', 'Noi tiet', 'Phu san', 'Rang Ham Mat',\n",
       "       'Suc khoe gioi tinh', 'Tai Mui Hong', 'Tam than', 'Than Tiet nieu',\n",
       "       'Than kinh', 'Tieu hoa', 'Tim mach Long nguc', 'Truyen nhiem',\n",
       "       'Ung buou', 'Xet nghiem'], dtype=object)"
      ]
     },
     "execution_count": 100,
     "metadata": {},
     "output_type": "execute_result"
    }
   ],
   "source": [
    "encoder = preprocessing.LabelEncoder()\n",
    "df3[\"Department_Encoded\"] = encoder.fit_transform(df3[\"Department\"])\n",
    "\n",
    "encoder.classes_"
   ]
  },
  {
   "cell_type": "markdown",
   "metadata": {
    "id": "yAt8I03m_tXp",
    "jp-MarkdownHeadingCollapsed": true
   },
   "source": [
    "# **SPLIT TRAIN - TEST**"
   ]
  },
  {
   "cell_type": "code",
   "execution_count": 102,
   "metadata": {
    "colab": {
     "base_uri": "https://localhost:8080/"
    },
    "id": "imVpyzye_0oB",
    "outputId": "8a4e6fcd-3c6e-497f-99c6-da6afbaf80f8"
   },
   "outputs": [
    {
     "name": "stdout",
     "output_type": "stream",
     "text": [
      "News          16480\n",
      "QA             6462\n",
      "Knownledge     4230\n",
      "Name: Category, dtype: int64\n"
     ]
    }
   ],
   "source": [
    "df4 = df3.copy() \n",
    "\n",
    "# Đếm số dòng theo cột 'Category'\n",
    "category_counts = df4['Category'].value_counts()\n",
    "\n",
    "# In kết quả\n",
    "print(category_counts)"
   ]
  },
  {
   "cell_type": "code",
   "execution_count": 104,
   "metadata": {},
   "outputs": [
    {
     "data": {
      "text/html": [
       "<div>\n",
       "<style scoped>\n",
       "    .dataframe tbody tr th:only-of-type {\n",
       "        vertical-align: middle;\n",
       "    }\n",
       "\n",
       "    .dataframe tbody tr th {\n",
       "        vertical-align: top;\n",
       "    }\n",
       "\n",
       "    .dataframe thead th {\n",
       "        text-align: right;\n",
       "    }\n",
       "</style>\n",
       "<table border=\"1\" class=\"dataframe\">\n",
       "  <thead>\n",
       "    <tr style=\"text-align: right;\">\n",
       "      <th></th>\n",
       "      <th>Department</th>\n",
       "      <th>Symptom</th>\n",
       "      <th>Department_Encoded</th>\n",
       "    </tr>\n",
       "  </thead>\n",
       "  <tbody>\n",
       "    <tr>\n",
       "      <th>0</th>\n",
       "      <td>Tam than</td>\n",
       "      <td>người_bệnh có_thể bị căng_thẳng mất_ngủ đờ_đẫn...</td>\n",
       "      <td>12</td>\n",
       "    </tr>\n",
       "    <tr>\n",
       "      <th>1</th>\n",
       "      <td>Tam than</td>\n",
       "      <td>người mắc bệnh rối_loạn đa nhân_cách thường có...</td>\n",
       "      <td>12</td>\n",
       "    </tr>\n",
       "    <tr>\n",
       "      <th>2</th>\n",
       "      <td>Tam than</td>\n",
       "      <td>triệu_chứng chung của những người bị mắc chứng...</td>\n",
       "      <td>12</td>\n",
       "    </tr>\n",
       "    <tr>\n",
       "      <th>3</th>\n",
       "      <td>Tam than</td>\n",
       "      <td>bệnh_nhân khi bị trầm_cảm sẽ có các biểu_hiện ...</td>\n",
       "      <td>12</td>\n",
       "    </tr>\n",
       "    <tr>\n",
       "      <th>4</th>\n",
       "      <td>Tam than</td>\n",
       "      <td>triệu_chứng của mất_ngủ người cao_tuổi là khó ...</td>\n",
       "      <td>12</td>\n",
       "    </tr>\n",
       "  </tbody>\n",
       "</table>\n",
       "</div>"
      ],
      "text/plain": [
       "  Department                                            Symptom  \\\n",
       "0   Tam than  người_bệnh có_thể bị căng_thẳng mất_ngủ đờ_đẫn...   \n",
       "1   Tam than  người mắc bệnh rối_loạn đa nhân_cách thường có...   \n",
       "2   Tam than  triệu_chứng chung của những người bị mắc chứng...   \n",
       "3   Tam than  bệnh_nhân khi bị trầm_cảm sẽ có các biểu_hiện ...   \n",
       "4   Tam than  triệu_chứng của mất_ngủ người cao_tuổi là khó ...   \n",
       "\n",
       "   Department_Encoded  \n",
       "0                  12  \n",
       "1                  12  \n",
       "2                  12  \n",
       "3                  12  \n",
       "4                  12  "
      ]
     },
     "execution_count": 104,
     "metadata": {},
     "output_type": "execute_result"
    }
   ],
   "source": [
    "df4 = df4.drop('Category', axis=1)\n",
    "df4.head()"
   ]
  },
  {
   "cell_type": "code",
   "execution_count": 110,
   "metadata": {},
   "outputs": [],
   "source": [
    "X = df4['Symptom']\n",
    "y = df4['Department_Encoded']"
   ]
  },
  {
   "cell_type": "code",
   "execution_count": 112,
   "metadata": {
    "id": "xp6o-7qYCKCN"
   },
   "outputs": [
    {
     "name": "stdout",
     "output_type": "stream",
     "text": [
      "Phân phối label trong tập train:\n",
      "0      278\n",
      "1     1205\n",
      "2      794\n",
      "3     1207\n",
      "4     1098\n",
      "5      734\n",
      "6     1137\n",
      "7     1701\n",
      "8      258\n",
      "9     1188\n",
      "10     374\n",
      "11    1334\n",
      "12     899\n",
      "13     755\n",
      "14    2183\n",
      "15    1226\n",
      "16     784\n",
      "17    1497\n",
      "18     802\n",
      "19    2283\n",
      "Name: Department_Encoded, dtype: int64\n",
      "\n",
      "Phân phối label trong tập test:\n",
      "0      69\n",
      "1     301\n",
      "2     198\n",
      "3     302\n",
      "4     275\n",
      "5     183\n",
      "6     284\n",
      "7     425\n",
      "8      64\n",
      "9     297\n",
      "10     94\n",
      "11    334\n",
      "12    225\n",
      "13    189\n",
      "14    546\n",
      "15    307\n",
      "16    196\n",
      "17    374\n",
      "18    201\n",
      "19    571\n",
      "Name: Department_Encoded, dtype: int64\n"
     ]
    }
   ],
   "source": [
    "# Chia tập train/test có giữ tỷ lệ label (stratified)\n",
    "X_train, X_test, y_train, y_test = train_test_split(\n",
    "    X, y, test_size=0.2, random_state=42, stratify=y\n",
    ")\n",
    "\n",
    "# Kiểm tra phân phối label\n",
    "print(\"Phân phối label trong tập train:\")\n",
    "print(pd.Series(y_train).value_counts().sort_index())\n",
    "\n",
    "print(\"\\nPhân phối label trong tập test:\")\n",
    "print(pd.Series(y_test).value_counts().sort_index())"
   ]
  },
  {
   "cell_type": "code",
   "execution_count": 116,
   "metadata": {
    "colab": {
     "base_uri": "https://localhost:8080/",
     "height": 241
    },
    "id": "vMk2ox2vOAEO",
    "outputId": "99c4766c-cf15-4bd3-dbc1-c2c90ca02e7d"
   },
   "outputs": [
    {
     "data": {
      "text/plain": [
       "24264    16\n",
       "4248      2\n",
       "18883    12\n",
       "17467     7\n",
       "8185     15\n",
       "Name: Department_Encoded, dtype: int32"
      ]
     },
     "execution_count": 116,
     "metadata": {},
     "output_type": "execute_result"
    }
   ],
   "source": [
    "#y_test.head()"
   ]
  },
  {
   "cell_type": "markdown",
   "metadata": {
    "id": "aiHACamd_mZa"
   },
   "source": [
    "# **TF - IDF VECTORS: TRANSFORM BY SVD TO DECREASE NUMBER OF DIMENSIONS**\n",
    "*   WORD LEVEL\n",
    "*   NGRAM LEVEL\n",
    "*   NGRAM CHAR LEVEL"
   ]
  },
  {
   "cell_type": "code",
   "execution_count": 125,
   "metadata": {
    "colab": {
     "base_uri": "https://localhost:8080/"
    },
    "id": "Gu3vGExJEQT3",
    "outputId": "11ae673a-85f8-44cf-cb33-ab3dfe94a49a"
   },
   "outputs": [],
   "source": [
    "# Gộp toàn bộ văn bản thành 1 chuỗi lớn\n",
    "all_text = \" \".join(df4['Symptom'])\n",
    "\n",
    "# Tách từ và tạo tập hợp từ duy nhất\n",
    "unique_words = set(all_text.split())"
   ]
  },
  {
   "cell_type": "code",
   "execution_count": 127,
   "metadata": {},
   "outputs": [
    {
     "name": "stdout",
     "output_type": "stream",
     "text": [
      "Tổng số từ duy nhất trong X_data đã qua xử lý: 27973\n",
      "Danh sách một số từ duy nhất: ['trích_dẫn', 'xuong', 'lan_truyền_thông_qua', 'manhđau', 'multi', 'gain', 'dặn', 'hệ_số', 'khum', 'tham_vấn', 'cafein', 'đấng', 'parry', 'cộng', 'bottle', 'súng_đạn', 'acetat', 'dently', 'bandha', 'si', 'verywellhealth', 'felodipine', 'doxepin', 'cay', 'kieng', 'wada', 'alginer', 'syndrome', 'thực_hiện_thời_điểm', 'xít', 'ii', 'như_hóa_trị', 'cấp_tính_cách', 'do_giảm', 'thực_hư', 'chả', 'evolving', 'răng_cửa', 'nảy', 'film', 'kiễng', 'creatinine', 'nôn_sốt', 'chuồn_chuồn', 'thường_trú', 'đánh_máy_chữ', 'ghiền', 'bọn', 'trầm_cảm_amitriptyline', 'quick', 'xư', 'terbutanyl', 'huy', 'axit', 'nghiền_ngẫm', 'lượngt', 'tia', 'tiêu_điểm_ảnh', 'ekip', 'ethionamide', 'bẽ_mặt', 'cherry', 'gió_máy_lạnh', 'cấy', 'inositol', 'lựcđỏ', 'wallace', 'radii', 'trưởng', 'khí_carbonic', 'tác_động_vật_lý', 'trầm_trọng_lượng', 'trường_hợp_dây', 'di_căn_hóa_trị', 'muscular', 'sôi_chú', 'roche', 'cá_bống', 'trí_tưởng_tượng', 'tự_phát', 'bất_an', 'tùy_thích', 'tăng_sản_xuất_huyết', 'cuộc_đời_thường', 'chính_yếu', 'phép_toán', 'miliaria', 'trí_nhớ_hóa_trị', 'vraylar', 'dải_hình', 'ngữ_liệu', 'cao_giá_thành', 'cor', 'căn', 'thúc', 'mày', 'triệu_chứng_mất', 'child', 'xa_xưa', 'làm_quen']\n"
     ]
    }
   ],
   "source": [
    "# Kết quả\n",
    "print(f\"Tổng số từ duy nhất trong X_data đã qua xử lý: {len(unique_words)}\")\n",
    "print(f\"Danh sách một số từ duy nhất: {list(unique_words)[:100]}\")  # Hiển thị 10 từ đầu tiên"
   ]
  },
  {
   "cell_type": "code",
   "execution_count": null,
   "metadata": {},
   "outputs": [],
   "source": []
  }
 ],
 "metadata": {
  "colab": {
   "provenance": [],
   "toc_visible": true
  },
  "kernelspec": {
   "display_name": "Python 3 (ipykernel)",
   "language": "python",
   "name": "python3"
  },
  "language_info": {
   "codemirror_mode": {
    "name": "ipython",
    "version": 3
   },
   "file_extension": ".py",
   "mimetype": "text/x-python",
   "name": "python",
   "nbconvert_exporter": "python",
   "pygments_lexer": "ipython3",
   "version": "3.11.7"
  }
 },
 "nbformat": 4,
 "nbformat_minor": 4
}
